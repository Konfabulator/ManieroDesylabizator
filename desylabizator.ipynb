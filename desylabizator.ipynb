{
 "cells": [
  {
   "attachments": {},
   "cell_type": "markdown",
   "metadata": {},
   "source": [
    "# MANIERODESYLABIZATOR"
   ]
  },
  {
   "attachments": {},
   "cell_type": "markdown",
   "metadata": {},
   "source": [
    "### Importy"
   ]
  },
  {
   "cell_type": "code",
   "execution_count": 1,
   "metadata": {},
   "outputs": [],
   "source": [
    "import time\n",
    "import random\n",
    "import matplotlib.pyplot as plt\n",
    "import numpy as np\n",
    "import tensorflow as tf\n",
    "from keras.models import Sequential\n",
    "from keras.layers import LSTM, Dense\n",
    "from keras.models import load_model"
   ]
  },
  {
   "attachments": {},
   "cell_type": "markdown",
   "metadata": {},
   "source": [
    "### Funkcje Pomocnicze"
   ]
  },
  {
   "cell_type": "code",
   "execution_count": 2,
   "metadata": {},
   "outputs": [],
   "source": [
    "slownik = ['a','ą','b','c','ć','d','e','ę','f','g','h','i','j','k','l','ł','m','n','ń','o','ó','p','q','r','s','ś','t','u','x','v','w','y','z','ź','ż']\n",
    "char_to_int = dict((c, i) for i, c in enumerate(slownik))\n",
    "max_length = 32"
   ]
  },
  {
   "cell_type": "code",
   "execution_count": 3,
   "metadata": {},
   "outputs": [],
   "source": [
    "def resizer(X, length):\n",
    "    if len(X) < length:\n",
    "        X = X + [0]*(length-len(X))\n",
    "    else:\n",
    "        X = X[:length]\n",
    "    return X\n",
    "\n",
    "def word_to_indices(word, length):\n",
    "    indices = [slownik.index(c)+1 for c in word]\n",
    "    indices = resizer(indices, length)\n",
    "    return indices\n",
    "\n",
    "def locate_syllables(locations, length):\n",
    "    s = [0]*length\n",
    "    for i in locations:\n",
    "        s[i] = 1\n",
    "    return s"
   ]
  },
  {
   "attachments": {},
   "cell_type": "markdown",
   "metadata": {},
   "source": [
    "### Dane treningowe"
   ]
  },
  {
   "cell_type": "code",
   "execution_count": 4,
   "metadata": {},
   "outputs": [],
   "source": [
    "# data_file = open(\"training_set_dummy.txt\", \"r\", encoding=\"utf-8\")\n",
    "data_file = open(\"training_set_expert.txt\", \"r\", encoding=\"utf-8\")\n",
    "data = data_file.read().split(\"\\n\")\n",
    "# remove empty lines\n",
    "data = [d for d in data if ' ' in d]\n",
    "\n",
    "words = [word_to_indices(line.split()[0], max_length) for line in data]\n",
    "X_train = np.zeros((len(words), max_length, len(slownik)))\n",
    "for i, word in enumerate(words):\n",
    "    for j, char in enumerate(word):\n",
    "        if char != 0:\n",
    "            X_train[i, j, char-1] = 1\n",
    "# adjust X_train to be 2D for simple dense\n",
    "X_train = X_train.reshape((X_train.shape[0], X_train.shape[1]*X_train.shape[2]))\n",
    "\n",
    "y_train = [list(map(int, d.split()[1:])) for d in data]\n",
    "y_train = np.array(y_train)\n",
    "# print(X_train.shape)\n",
    "# print(y_train.shape)"
   ]
  },
  {
   "attachments": {},
   "cell_type": "markdown",
   "metadata": {},
   "source": [
    "### Model"
   ]
  },
  {
   "cell_type": "code",
   "execution_count": 5,
   "metadata": {},
   "outputs": [],
   "source": [
    "def create_model(max_length, learning_rate):\n",
    "    optimizer = tf.keras.optimizers.Adam(learning_rate=learning_rate)\n",
    "    model = tf.keras.Sequential([\n",
    "        tf.keras.layers.Dense(256, activation='sigmoid', input_shape=(max_length*len(slownik),)),\n",
    "        tf.keras.layers.Dense(128, activation='sigmoid'),\n",
    "        tf.keras.layers.Dense(128, activation='sigmoid'),\n",
    "        tf.keras.layers.Dense(128, activation='sigmoid'),\n",
    "        tf.keras.layers.Dense(max_length, activation='sigmoid')\n",
    "    ])\n",
    "    model.compile(optimizer=optimizer, loss='binary_crossentropy', metrics=['accuracy'])\n",
    "    return model"
   ]
  },
  {
   "attachments": {},
   "cell_type": "markdown",
   "metadata": {},
   "source": [
    "### Trening"
   ]
  },
  {
   "cell_type": "code",
   "execution_count": 6,
   "metadata": {},
   "outputs": [
    {
     "name": "stdout",
     "output_type": "stream",
     "text": [
      "Epoch 1/50\n",
      "34/34 [==============================] - 1s 7ms/step - loss: 0.0070 - accuracy: 0.9794\n",
      "Epoch 2/50\n",
      "34/34 [==============================] - 0s 7ms/step - loss: 0.0045 - accuracy: 0.9709\n",
      "Epoch 3/50\n",
      "34/34 [==============================] - 0s 7ms/step - loss: 0.0028 - accuracy: 0.9841\n",
      "Epoch 4/50\n",
      "34/34 [==============================] - 0s 7ms/step - loss: 0.0015 - accuracy: 0.9756\n",
      "Epoch 5/50\n",
      "34/34 [==============================] - 0s 7ms/step - loss: 9.8738e-04 - accuracy: 0.9822\n",
      "Epoch 6/50\n",
      "34/34 [==============================] - 0s 7ms/step - loss: 7.4842e-04 - accuracy: 0.9803\n",
      "Epoch 7/50\n",
      "34/34 [==============================] - 0s 7ms/step - loss: 5.2364e-04 - accuracy: 0.9803\n",
      "Epoch 8/50\n",
      "34/34 [==============================] - 0s 7ms/step - loss: 4.8977e-04 - accuracy: 0.9822\n",
      "Epoch 9/50\n",
      "34/34 [==============================] - 0s 7ms/step - loss: 5.1784e-04 - accuracy: 0.9803\n",
      "Epoch 10/50\n",
      "34/34 [==============================] - 0s 7ms/step - loss: 4.5388e-04 - accuracy: 0.9803\n",
      "Epoch 11/50\n",
      "34/34 [==============================] - 0s 7ms/step - loss: 4.2588e-04 - accuracy: 0.9812\n",
      "Epoch 12/50\n",
      "34/34 [==============================] - 0s 7ms/step - loss: 4.0394e-04 - accuracy: 0.9803\n",
      "Epoch 13/50\n",
      "34/34 [==============================] - 0s 7ms/step - loss: 3.9590e-04 - accuracy: 0.9812\n",
      "Epoch 14/50\n",
      "34/34 [==============================] - 0s 7ms/step - loss: 3.7671e-04 - accuracy: 0.9822\n",
      "Epoch 15/50\n",
      "34/34 [==============================] - 0s 9ms/step - loss: 3.6581e-04 - accuracy: 0.9812\n",
      "Epoch 16/50\n",
      "34/34 [==============================] - 0s 11ms/step - loss: 3.5570e-04 - accuracy: 0.9794\n",
      "Epoch 17/50\n",
      "34/34 [==============================] - 0s 10ms/step - loss: 3.4516e-04 - accuracy: 0.9812\n",
      "Epoch 18/50\n",
      "34/34 [==============================] - 0s 11ms/step - loss: 3.3448e-04 - accuracy: 0.9812\n",
      "Epoch 19/50\n",
      "34/34 [==============================] - 0s 11ms/step - loss: 3.2544e-04 - accuracy: 0.9812\n",
      "Epoch 20/50\n",
      "34/34 [==============================] - 0s 10ms/step - loss: 3.1666e-04 - accuracy: 0.9803\n",
      "Epoch 21/50\n",
      "34/34 [==============================] - 0s 11ms/step - loss: 3.1420e-04 - accuracy: 0.9803\n",
      "Epoch 22/50\n",
      "34/34 [==============================] - 0s 11ms/step - loss: 2.9634e-04 - accuracy: 0.9812\n",
      "Epoch 23/50\n",
      "34/34 [==============================] - 0s 11ms/step - loss: 2.8717e-04 - accuracy: 0.9812\n",
      "Epoch 24/50\n",
      "34/34 [==============================] - 0s 10ms/step - loss: 2.7938e-04 - accuracy: 0.9812\n",
      "Epoch 25/50\n",
      "34/34 [==============================] - 0s 11ms/step - loss: 2.7669e-04 - accuracy: 0.9803\n",
      "Epoch 26/50\n",
      "34/34 [==============================] - 0s 11ms/step - loss: 2.6889e-04 - accuracy: 0.9803\n",
      "Epoch 27/50\n",
      "34/34 [==============================] - 0s 11ms/step - loss: 2.5991e-04 - accuracy: 0.9812\n",
      "Epoch 28/50\n",
      "34/34 [==============================] - 0s 10ms/step - loss: 2.5416e-04 - accuracy: 0.9803\n",
      "Epoch 29/50\n",
      "34/34 [==============================] - 0s 10ms/step - loss: 2.4601e-04 - accuracy: 0.9812\n",
      "Epoch 30/50\n",
      "34/34 [==============================] - 0s 10ms/step - loss: 2.3952e-04 - accuracy: 0.9803\n",
      "Epoch 31/50\n",
      "34/34 [==============================] - 0s 11ms/step - loss: 2.3360e-04 - accuracy: 0.9803\n",
      "Epoch 32/50\n",
      "34/34 [==============================] - 0s 10ms/step - loss: 2.2782e-04 - accuracy: 0.9803\n",
      "Epoch 33/50\n",
      "34/34 [==============================] - 0s 11ms/step - loss: 2.2253e-04 - accuracy: 0.9794\n",
      "Epoch 34/50\n",
      "34/34 [==============================] - 0s 10ms/step - loss: 2.1517e-04 - accuracy: 0.9803\n",
      "Epoch 35/50\n",
      "34/34 [==============================] - 0s 11ms/step - loss: 2.1046e-04 - accuracy: 0.9803\n",
      "Epoch 36/50\n",
      "34/34 [==============================] - 0s 10ms/step - loss: 2.0532e-04 - accuracy: 0.9803\n",
      "Epoch 37/50\n",
      "34/34 [==============================] - 0s 11ms/step - loss: 2.0084e-04 - accuracy: 0.9794\n",
      "Epoch 38/50\n",
      "34/34 [==============================] - 0s 10ms/step - loss: 1.9454e-04 - accuracy: 0.9784\n",
      "Epoch 39/50\n",
      "34/34 [==============================] - 0s 10ms/step - loss: 1.9170e-04 - accuracy: 0.9784\n",
      "Epoch 40/50\n",
      "34/34 [==============================] - 0s 10ms/step - loss: 1.8732e-04 - accuracy: 0.9784\n",
      "Epoch 41/50\n",
      "34/34 [==============================] - 0s 10ms/step - loss: 1.8408e-04 - accuracy: 0.9794\n",
      "Epoch 42/50\n",
      "34/34 [==============================] - 0s 10ms/step - loss: 1.7761e-04 - accuracy: 0.9803\n",
      "Epoch 43/50\n",
      "34/34 [==============================] - 0s 10ms/step - loss: 1.7418e-04 - accuracy: 0.9803\n",
      "Epoch 44/50\n",
      "34/34 [==============================] - 0s 9ms/step - loss: 1.7070e-04 - accuracy: 0.9794\n",
      "Epoch 45/50\n",
      "34/34 [==============================] - 0s 8ms/step - loss: 1.6572e-04 - accuracy: 0.9803\n",
      "Epoch 46/50\n",
      "34/34 [==============================] - 0s 13ms/step - loss: 1.6265e-04 - accuracy: 0.9803\n",
      "Epoch 47/50\n",
      "34/34 [==============================] - 0s 9ms/step - loss: 1.6082e-04 - accuracy: 0.9803\n",
      "Epoch 48/50\n",
      "34/34 [==============================] - 0s 9ms/step - loss: 1.5751e-04 - accuracy: 0.9784\n",
      "Epoch 49/50\n",
      "34/34 [==============================] - 0s 10ms/step - loss: 1.5237e-04 - accuracy: 0.9784\n",
      "Epoch 50/50\n",
      "34/34 [==============================] - 0s 9ms/step - loss: 1.4754e-04 - accuracy: 0.9794\n"
     ]
    },
    {
     "data": {
      "image/png": "[encoded data removed]",
      "text/plain": [
       "<Figure size 640x480 with 2 Axes>"
      ]
     },
     "metadata": {},
     "output_type": "display_data"
    }
   ],
   "source": [
    "train = input(\"Train model? (y/n): \")\n",
    "if train == 'y':\n",
    "    # create the model\n",
    "    model = load_model('model_desylabizator.h5')\n",
    "    # model = create_model(max_length, learning_rate=0.0005)\n",
    "    # train the model\n",
    "    history = model.fit(X_train, y_train, epochs=50)\n",
    "    # save the model\n",
    "    model.save('model_desylabizator.h5')\n",
    "    #  plot loss and accuracy\n",
    "    plt.subplot(211)\n",
    "    plt.title('Loss')\n",
    "    plt.plot(history.history['loss'], label='train')\n",
    "    plt.subplot(212)\n",
    "    plt.title('Accuracy')\n",
    "    plt.plot(history.history['accuracy'], label='train')\n",
    "    plt.legend()\n",
    "    plt.show()"
   ]
  },
  {
   "attachments": {},
   "cell_type": "markdown",
   "metadata": {},
   "source": [
    "### Testy"
   ]
  },
  {
   "cell_type": "code",
   "execution_count": 7,
   "metadata": {},
   "outputs": [],
   "source": [
    "from keras.models import load_model\n",
    "model = load_model('model_desylabizator.h5')"
   ]
  },
  {
   "cell_type": "code",
   "execution_count": 8,
   "metadata": {},
   "outputs": [],
   "source": [
    "def test_model(model, input_wrod, max_len):\n",
    "    X_new = np.zeros((1, max_len, len(slownik)))\n",
    "    for j, char in enumerate(input_wrod):\n",
    "        if j == max_len:\n",
    "            break\n",
    "        X_new[0, j, char_to_int[char]] = 1\n",
    "    X_new = X_new.reshape((X_new.shape[0], X_new.shape[1]*X_new.shape[2]))\n",
    "    \n",
    "    y_pred = model.predict(X_new, verbose=0)[0]\n",
    "    y_pred = [int(round(x)) for x in y_pred]\n",
    "    \n",
    "    output = []\n",
    "    for i in range(len(input_wrod)):\n",
    "        if y_pred[i] == 1:\n",
    "            output.append('-')\n",
    "        output.append(input_wrod[i])\n",
    "    return \"\".join(output)[1:]"
   ]
  },
  {
   "cell_type": "code",
   "execution_count": 9,
   "metadata": {},
   "outputs": [
    {
     "name": "stdout",
     "output_type": "stream",
     "text": [
      "mechanika \t=> me-cha-ni-ka\n",
      "resuscytacja \t=> re-su-scy-ta-cja\n",
      "kaloryfer \t=> ka-lo-ry-fer\n",
      "kwantyzacja \t=> kwan-ty-za-cja\n",
      "miriady \t=> mir-ia-dy\n"
     ]
    }
   ],
   "source": [
    "while True:\n",
    "    word = input(\"Podaj słowo (q - wyjście)\")\n",
    "    if word == \"q\":\n",
    "        break\n",
    "    desylabizowane = test_model(model, word, max_length)\n",
    "    print(word, \"\\t=>\", desylabizowane)\n",
    "    # print(word)"
   ]
  }
 ],
 "metadata": {
  "kernelspec": {
   "display_name": "Python 3",
   "language": "python",
   "name": "python3"
  },
  "language_info": {
   "codemirror_mode": {
    "name": "ipython",
    "version": 3
   },
   "file_extension": ".py",
   "mimetype": "text/x-python",
   "name": "python",
   "nbconvert_exporter": "python",
   "pygments_lexer": "ipython3",
   "version": "3.11.3"
  },
  "orig_nbformat": 4
 },
 "nbformat": 4,
 "nbformat_minor": 2
}
