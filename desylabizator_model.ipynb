{
 "cells": [
  {
   "attachments": {},
   "cell_type": "markdown",
   "metadata": {},
   "source": [
    "# MANIERODESYLABIZATOR"
   ]
  },
  {
   "attachments": {},
   "cell_type": "markdown",
   "metadata": {},
   "source": [
    "### Importy"
   ]
  },
  {
   "cell_type": "code",
   "execution_count": 1,
   "metadata": {},
   "outputs": [],
   "source": [
    "import time\n",
    "import random\n",
    "import matplotlib.pyplot as plt\n",
    "import numpy as np\n",
    "import tensorflow as tf\n",
    "from keras.models import Sequential\n",
    "from keras.layers import LSTM, Dense\n",
    "from keras.models import load_model"
   ]
  },
  {
   "attachments": {},
   "cell_type": "markdown",
   "metadata": {},
   "source": [
    "### Funkcje Pomocnicze"
   ]
  },
  {
   "cell_type": "code",
   "execution_count": 2,
   "metadata": {},
   "outputs": [],
   "source": [
    "slownik = ['a','ą','b','c','ć','d','e','ę','f','g','h','i','j','k','l','ł','m','n','ń','o','ó','p','q','r','s','ś','t','u','x','v','w','y','z','ź','ż']\n",
    "char_to_int = dict((c, i) for i, c in enumerate(slownik))\n",
    "max_length = 32"
   ]
  },
  {
   "cell_type": "code",
   "execution_count": 3,
   "metadata": {},
   "outputs": [],
   "source": [
    "def resizer(X, length):\n",
    "    if len(X) < length:\n",
    "        X = X + [0]*(length-len(X))\n",
    "    else:\n",
    "        X = X[:length]\n",
    "    return X\n",
    "\n",
    "def word_to_indices(word, length):\n",
    "    indices = [slownik.index(c)+1 for c in word]\n",
    "    indices = resizer(indices, length)\n",
    "    return indices\n",
    "\n",
    "def locate_syllables(locations, length):\n",
    "    s = [0]*length\n",
    "    for i in locations:\n",
    "        s[i] = 1\n",
    "    return s"
   ]
  },
  {
   "attachments": {},
   "cell_type": "markdown",
   "metadata": {},
   "source": [
    "### Dane treningowe"
   ]
  },
  {
   "cell_type": "code",
   "execution_count": 4,
   "metadata": {},
   "outputs": [
    {
     "name": "stdout",
     "output_type": "stream",
     "text": [
      "(1051, 1120)\n",
      "(1051, 32)\n"
     ]
    }
   ],
   "source": [
    "# data_file = open(\"training_set_dummy.txt\", \"r\", encoding=\"utf-8\")\n",
    "data_file = open(\"training_set_expert.txt\", \"r\", encoding=\"utf-8\")\n",
    "data = data_file.read().split(\"\\n\")\n",
    "# remove empty lines\n",
    "data = [d for d in data if ' ' in d]\n",
    "\n",
    "words = [word_to_indices(line.split()[0], max_length) for line in data]\n",
    "X_train = np.zeros((len(words), max_length, len(slownik)))\n",
    "for i, word in enumerate(words):\n",
    "    for j, char in enumerate(word):\n",
    "        if char != 0:\n",
    "            X_train[i, j, char-1] = 1\n",
    "# adjust X_train to be 2D for simple dense\n",
    "X_train = X_train.reshape((X_train.shape[0], X_train.shape[1]*X_train.shape[2]))\n",
    "\n",
    "y_train = [list(map(int, d.split()[1:])) for d in data]\n",
    "y_train = np.array(y_train)\n",
    "# print(X_train.shape)\n",
    "# print(y_train.shape)"
   ]
  },
  {
   "attachments": {},
   "cell_type": "markdown",
   "metadata": {},
   "source": [
    "### Model"
   ]
  },
  {
   "cell_type": "code",
   "execution_count": 5,
   "metadata": {},
   "outputs": [],
   "source": [
    "def create_model(max_length, learning_rate):\n",
    "    optimizer = tf.keras.optimizers.Adam(learning_rate=learning_rate)\n",
    "    model = tf.keras.Sequential([\n",
    "        tf.keras.layers.Dense(256, activation='sigmoid', input_shape=(max_length*len(slownik),)),\n",
    "        tf.keras.layers.Dense(128, activation='sigmoid'),\n",
    "        tf.keras.layers.Dense(128, activation='sigmoid'),\n",
    "        tf.keras.layers.Dense(128, activation='sigmoid'),\n",
    "        tf.keras.layers.Dense(max_length, activation='sigmoid')\n",
    "    ])\n",
    "    model.compile(optimizer=optimizer, loss='binary_crossentropy', metrics=['accuracy'])\n",
    "    return model"
   ]
  },
  {
   "attachments": {},
   "cell_type": "markdown",
   "metadata": {},
   "source": [
    "### Trening"
   ]
  },
  {
   "cell_type": "code",
   "execution_count": 6,
   "metadata": {},
   "outputs": [
    {
     "name": "stdout",
     "output_type": "stream",
     "text": [
      "Epoch 1/50\n",
      "33/33 [==============================] - 1s 5ms/step - loss: 0.0178 - accuracy: 0.9648\n",
      "Epoch 2/50\n",
      "33/33 [==============================] - 0s 4ms/step - loss: 0.0128 - accuracy: 0.9638\n",
      "Epoch 3/50\n",
      "33/33 [==============================] - 0s 4ms/step - loss: 0.0090 - accuracy: 0.9762\n",
      "Epoch 4/50\n",
      "33/33 [==============================] - 0s 4ms/step - loss: 0.0061 - accuracy: 0.9838\n",
      "Epoch 5/50\n",
      "33/33 [==============================] - 0s 4ms/step - loss: 0.0052 - accuracy: 0.9734\n",
      "Epoch 6/50\n",
      "33/33 [==============================] - 0s 4ms/step - loss: 0.0042 - accuracy: 0.9800\n",
      "Epoch 7/50\n",
      "33/33 [==============================] - 0s 5ms/step - loss: 0.0037 - accuracy: 0.9772\n",
      "Epoch 8/50\n",
      "33/33 [==============================] - 0s 5ms/step - loss: 0.0033 - accuracy: 0.9772\n",
      "Epoch 9/50\n",
      "33/33 [==============================] - 0s 5ms/step - loss: 0.0028 - accuracy: 0.9743\n",
      "Epoch 10/50\n",
      "33/33 [==============================] - 0s 5ms/step - loss: 0.0026 - accuracy: 0.9781\n",
      "Epoch 11/50\n",
      "33/33 [==============================] - 0s 6ms/step - loss: 0.0024 - accuracy: 0.9762\n",
      "Epoch 12/50\n",
      "33/33 [==============================] - 0s 5ms/step - loss: 0.0022 - accuracy: 0.9772\n",
      "Epoch 13/50\n",
      "33/33 [==============================] - 0s 4ms/step - loss: 0.0020 - accuracy: 0.9772\n",
      "Epoch 14/50\n",
      "33/33 [==============================] - 0s 4ms/step - loss: 0.0019 - accuracy: 0.9772\n",
      "Epoch 15/50\n",
      "33/33 [==============================] - 0s 4ms/step - loss: 0.0018 - accuracy: 0.9781\n",
      "Epoch 16/50\n",
      "33/33 [==============================] - 0s 4ms/step - loss: 0.0017 - accuracy: 0.9762\n",
      "Epoch 17/50\n",
      "33/33 [==============================] - 0s 4ms/step - loss: 0.0016 - accuracy: 0.9781\n",
      "Epoch 18/50\n",
      "33/33 [==============================] - 0s 5ms/step - loss: 0.0015 - accuracy: 0.9781\n",
      "Epoch 19/50\n",
      "33/33 [==============================] - 0s 4ms/step - loss: 0.0014 - accuracy: 0.9791\n",
      "Epoch 20/50\n",
      "33/33 [==============================] - 0s 4ms/step - loss: 0.0014 - accuracy: 0.9781\n",
      "Epoch 21/50\n",
      "33/33 [==============================] - 0s 4ms/step - loss: 0.0013 - accuracy: 0.9791\n",
      "Epoch 22/50\n",
      "33/33 [==============================] - 0s 4ms/step - loss: 0.0012 - accuracy: 0.9791\n",
      "Epoch 23/50\n",
      "33/33 [==============================] - 0s 4ms/step - loss: 0.0011 - accuracy: 0.9781\n",
      "Epoch 24/50\n",
      "33/33 [==============================] - 0s 4ms/step - loss: 0.0011 - accuracy: 0.9791\n",
      "Epoch 25/50\n",
      "33/33 [==============================] - 0s 4ms/step - loss: 0.0010 - accuracy: 0.9781\n",
      "Epoch 26/50\n",
      "33/33 [==============================] - 0s 4ms/step - loss: 9.4417e-04 - accuracy: 0.9781\n",
      "Epoch 27/50\n",
      "33/33 [==============================] - 0s 4ms/step - loss: 8.9146e-04 - accuracy: 0.9781\n",
      "Epoch 28/50\n",
      "33/33 [==============================] - 0s 4ms/step - loss: 8.4743e-04 - accuracy: 0.9791\n",
      "Epoch 29/50\n",
      "33/33 [==============================] - 0s 4ms/step - loss: 8.1609e-04 - accuracy: 0.9781\n",
      "Epoch 30/50\n",
      "33/33 [==============================] - 0s 4ms/step - loss: 7.8597e-04 - accuracy: 0.9791\n",
      "Epoch 31/50\n",
      "33/33 [==============================] - 0s 4ms/step - loss: 7.4439e-04 - accuracy: 0.9781\n",
      "Epoch 32/50\n",
      "33/33 [==============================] - 0s 4ms/step - loss: 7.1595e-04 - accuracy: 0.9762\n",
      "Epoch 33/50\n",
      "33/33 [==============================] - 0s 4ms/step - loss: 6.9318e-04 - accuracy: 0.9791\n",
      "Epoch 34/50\n",
      "33/33 [==============================] - 0s 4ms/step - loss: 6.6931e-04 - accuracy: 0.9800\n",
      "Epoch 35/50\n",
      "33/33 [==============================] - 0s 4ms/step - loss: 6.4040e-04 - accuracy: 0.9800\n",
      "Epoch 36/50\n",
      "33/33 [==============================] - 0s 5ms/step - loss: 6.2298e-04 - accuracy: 0.9791\n",
      "Epoch 37/50\n",
      "33/33 [==============================] - 0s 4ms/step - loss: 6.0587e-04 - accuracy: 0.9800\n",
      "Epoch 38/50\n",
      "33/33 [==============================] - 0s 4ms/step - loss: 5.8491e-04 - accuracy: 0.9791\n",
      "Epoch 39/50\n",
      "33/33 [==============================] - 0s 4ms/step - loss: 5.6752e-04 - accuracy: 0.9810\n",
      "Epoch 40/50\n",
      "33/33 [==============================] - 0s 4ms/step - loss: 5.4757e-04 - accuracy: 0.9800\n",
      "Epoch 41/50\n",
      "33/33 [==============================] - 0s 4ms/step - loss: 5.3467e-04 - accuracy: 0.9810\n",
      "Epoch 42/50\n",
      "33/33 [==============================] - 0s 4ms/step - loss: 5.2019e-04 - accuracy: 0.9800\n",
      "Epoch 43/50\n",
      "33/33 [==============================] - 0s 5ms/step - loss: 5.0263e-04 - accuracy: 0.9800\n",
      "Epoch 44/50\n",
      "33/33 [==============================] - 0s 5ms/step - loss: 4.9645e-04 - accuracy: 0.9810\n",
      "Epoch 45/50\n",
      "33/33 [==============================] - 0s 5ms/step - loss: 4.7660e-04 - accuracy: 0.9819\n",
      "Epoch 46/50\n",
      "33/33 [==============================] - 0s 4ms/step - loss: 4.6197e-04 - accuracy: 0.9810\n",
      "Epoch 47/50\n",
      "33/33 [==============================] - 0s 4ms/step - loss: 4.4792e-04 - accuracy: 0.9810\n",
      "Epoch 48/50\n",
      "33/33 [==============================] - 0s 4ms/step - loss: 4.3888e-04 - accuracy: 0.9819\n",
      "Epoch 49/50\n",
      "33/33 [==============================] - 0s 4ms/step - loss: 4.2252e-04 - accuracy: 0.9829\n",
      "Epoch 50/50\n",
      "33/33 [==============================] - 0s 4ms/step - loss: 4.1513e-04 - accuracy: 0.9810\n"
     ]
    },
    {
     "data": {
      "image/png": "[encoded data removed]",
      "text/plain": [
       "<Figure size 640x480 with 2 Axes>"
      ]
     },
     "metadata": {},
     "output_type": "display_data"
    }
   ],
   "source": [
    "train = input(\"Train model? (y/n): \")\n",
    "if train == 'y':\n",
    "    # create the model\n",
    "    model = load_model('model_desylabizator.h5')\n",
    "    # model = create_model(max_length, learning_rate=0.0005)\n",
    "    # train the model\n",
    "    history = model.fit(X_train, y_train, epochs=50)\n",
    "    # save the model\n",
    "    model.save('model_desylabizator.h5')\n",
    "    #  plot loss and accuracy\n",
    "    plt.subplot(211)\n",
    "    plt.title('Loss')\n",
    "    plt.plot(history.history['loss'], label='train')\n",
    "    plt.subplot(212)\n",
    "    plt.title('Accuracy')\n",
    "    plt.plot(history.history['accuracy'], label='train')\n",
    "    plt.legend()\n",
    "    plt.show()"
   ]
  },
  {
   "attachments": {},
   "cell_type": "markdown",
   "metadata": {},
   "source": [
    "### Testy"
   ]
  },
  {
   "cell_type": "code",
   "execution_count": 7,
   "metadata": {},
   "outputs": [],
   "source": [
    "from keras.models import load_model\n",
    "model = load_model('model_desylabizator.h5')"
   ]
  },
  {
   "cell_type": "code",
   "execution_count": 8,
   "metadata": {},
   "outputs": [],
   "source": [
    "def test_model(model, input_wrod, max_len):\n",
    "    X_new = np.zeros((1, max_len, len(slownik)))\n",
    "    for j, char in enumerate(input_wrod):\n",
    "        if j == max_len:\n",
    "            break\n",
    "        X_new[0, j, char_to_int[char]] = 1\n",
    "    X_new = X_new.reshape((X_new.shape[0], X_new.shape[1]*X_new.shape[2]))\n",
    "    \n",
    "    y_pred = model.predict(X_new)[0]\n",
    "    y_pred = [int(round(x)) for x in y_pred]\n",
    "    \n",
    "    output = []\n",
    "    for i in range(len(input_wrod)):\n",
    "        if y_pred[i] == 1:\n",
    "            output.append('-')\n",
    "        output.append(input_wrod[i])\n",
    "    return \"\".join(output)[1:]"
   ]
  },
  {
   "cell_type": "code",
   "execution_count": 12,
   "metadata": {},
   "outputs": [
    {
     "name": "stdout",
     "output_type": "stream",
     "text": [
      "1/1 [==============================] - 0s 17ms/step\n",
      "-me-cha-ni-ka\n",
      "1/1 [==============================] - 0s 17ms/step\n",
      "-re-su-scy-ta-cja\n",
      "1/1 [==============================] - 0s 20ms/step\n",
      "-ka-lo-ry-fer\n",
      "1/1 [==============================] - 0s 20ms/step\n",
      "-kwan-ty-za-cja\n",
      "1/1 [==============================] - 0s 18ms/step\n",
      "-mir-ia-dy\n"
     ]
    }
   ],
   "source": [
    "while True:\n",
    "    word = input(\"Podaj słowo: \")\n",
    "    if word == \"q\":\n",
    "        break\n",
    "    print(test_model(model, word, max_length))\n",
    "    # print(word)"
   ]
  }
 ],
 "metadata": {
  "kernelspec": {
   "display_name": "Python 3",
   "language": "python",
   "name": "python3"
  },
  "language_info": {
   "codemirror_mode": {
    "name": "ipython",
    "version": 3
   },
   "file_extension": ".py",
   "mimetype": "text/x-python",
   "name": "python",
   "nbconvert_exporter": "python",
   "pygments_lexer": "ipython3",
   "version": "3.11.3"
  },
  "orig_nbformat": 4
 },
 "nbformat": 4,
 "nbformat_minor": 2
}
