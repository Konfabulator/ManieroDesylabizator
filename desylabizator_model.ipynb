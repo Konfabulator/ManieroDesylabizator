{
 "cells": [
  {
   "attachments": {},
   "cell_type": "markdown",
   "metadata": {},
   "source": [
    "# MANIERODESYLABIZATOR"
   ]
  },
  {
   "attachments": {},
   "cell_type": "markdown",
   "metadata": {},
   "source": [
    "### Importy"
   ]
  },
  {
   "cell_type": "code",
   "execution_count": 2,
   "metadata": {},
   "outputs": [],
   "source": [
    "import time\n",
    "import random\n",
    "import matplotlib.pyplot as plt\n",
    "import numpy as np\n",
    "import tensorflow as tf\n",
    "from keras.models import Sequential\n",
    "from keras.layers import LSTM, Dense\n",
    "from keras.models import load_model"
   ]
  },
  {
   "attachments": {},
   "cell_type": "markdown",
   "metadata": {},
   "source": [
    "### Funkcje Pomocnicze"
   ]
  },
  {
   "cell_type": "code",
   "execution_count": 3,
   "metadata": {},
   "outputs": [],
   "source": [
    "slownik = ['a','ą','b','c','ć','d','e','ę','f','g','h','i','j','k','l','ł','m','n','ń','o','ó','p','q','r','s','ś','t','u','x','v','w','y','z','ź','ż']\n",
    "char_to_int = dict((c, i) for i, c in enumerate(slownik))\n",
    "max_length = 32"
   ]
  },
  {
   "cell_type": "code",
   "execution_count": 4,
   "metadata": {},
   "outputs": [],
   "source": [
    "def resizer(X, length):\n",
    "    if len(X) < length:\n",
    "        X = X + [0]*(length-len(X))\n",
    "    else:\n",
    "        X = X[:length]\n",
    "    return X\n",
    "\n",
    "def word_to_indices(word, length):\n",
    "    indices = [slownik.index(c)+1 for c in word]\n",
    "    indices = resizer(indices, length)\n",
    "    return indices\n",
    "\n",
    "def locate_syllables(locations, length):\n",
    "    s = [0]*length\n",
    "    for i in locations:\n",
    "        s[i] = 1\n",
    "    return s\n",
    "\n",
    "# add "
   ]
  },
  {
   "attachments": {},
   "cell_type": "markdown",
   "metadata": {},
   "source": [
    "### Dane treningowe"
   ]
  },
  {
   "cell_type": "code",
   "execution_count": 4,
   "metadata": {},
   "outputs": [
    {
     "name": "stdout",
     "output_type": "stream",
     "text": [
      "(1017, 1120)\n",
      "(1017, 32)\n"
     ]
    }
   ],
   "source": [
    "\n",
    "# data_file = open(\"training_set.txt\", \"r\", encoding=\"utf-8\")\n",
    "data_file = open(\"training_set_human.txt\", \"r\", encoding=\"utf-8\")\n",
    "data = data_file.read().split(\"\\n\")\n",
    "# remove empty lines\n",
    "data = [d for d in data if ' ' in d]\n",
    "\n",
    "words = [word_to_indices(line.split()[0], max_length) for line in data]\n",
    "X_train = np.zeros((len(words), max_length, len(slownik)))\n",
    "for i, word in enumerate(words):\n",
    "    for j, char in enumerate(word):\n",
    "        if char != 0:\n",
    "            X_train[i, j, char-1] = 1\n",
    "# adjust X_train to be 2D for simple dense\n",
    "X_train = X_train.reshape((X_train.shape[0], X_train.shape[1]*X_train.shape[2]))\n",
    "\n",
    "y_train = [list(map(int, d.split()[1:])) for d in data]\n",
    "y_train = np.array(y_train)\n",
    "print(X_train.shape)\n",
    "print(y_train.shape)"
   ]
  },
  {
   "attachments": {},
   "cell_type": "markdown",
   "metadata": {},
   "source": [
    "### Model"
   ]
  },
  {
   "cell_type": "code",
   "execution_count": 5,
   "metadata": {},
   "outputs": [],
   "source": [
    "# model = Sequential()\n",
    "# model.add(LSTM(256, input_shape=(None, len(slownik))))\n",
    "# model.add(Dense(128, activation='relu'))\n",
    "# model.add(Dense(64, activation='relu'))\n",
    "# model.add(Dense(1, activation='softmax'))  # modify output layer\n",
    "# model.compile(loss='categorical_crossentropy', optimizer='adam')\n",
    "def create_model(max_length, learning_rate):\n",
    "    optimizer = tf.keras.optimizers.Adam(learning_rate=learning_rate)\n",
    "    model = tf.keras.Sequential([\n",
    "        # tf.keras.layers.SimpleRNN(len(slownik), input_shape=(max_length, len(slownik))),\n",
    "        tf.keras.layers.Dense(256, activation='sigmoid', input_shape=(max_length*len(slownik),)),\n",
    "        tf.keras.layers.Dense(128, activation='sigmoid'),\n",
    "        tf.keras.layers.Dense(128, activation='sigmoid'),\n",
    "        tf.keras.layers.Dense(128, activation='sigmoid'),\n",
    "        # tf.keras.layers.Dense(64, activation='relu'),\n",
    "        tf.keras.layers.Dense(max_length, activation='sigmoid')\n",
    "    ])\n",
    "    model.compile(optimizer=optimizer, loss='binary_crossentropy', metrics=['accuracy'])\n",
    "    return model"
   ]
  },
  {
   "attachments": {},
   "cell_type": "markdown",
   "metadata": {},
   "source": [
    "### Trening"
   ]
  },
  {
   "cell_type": "code",
   "execution_count": 7,
   "metadata": {},
   "outputs": [
    {
     "name": "stdout",
     "output_type": "stream",
     "text": [
      "Epoch 1/50\n",
      "32/32 [==============================] - 1s 6ms/step - loss: 1.1772e-04 - accuracy: 0.9558\n",
      "Epoch 2/50\n",
      "32/32 [==============================] - 0s 5ms/step - loss: 0.0023 - accuracy: 0.9538\n",
      "Epoch 3/50\n",
      "32/32 [==============================] - 0s 5ms/step - loss: 0.0024 - accuracy: 0.9459\n",
      "Epoch 4/50\n",
      "32/32 [==============================] - 0s 5ms/step - loss: 8.5473e-04 - accuracy: 0.9479\n",
      "Epoch 5/50\n",
      "32/32 [==============================] - 0s 5ms/step - loss: 8.6289e-04 - accuracy: 0.9449\n",
      "Epoch 6/50\n",
      "32/32 [==============================] - 0s 5ms/step - loss: 1.7137e-04 - accuracy: 0.9420\n",
      "Epoch 7/50\n",
      "32/32 [==============================] - 0s 5ms/step - loss: 1.8473e-04 - accuracy: 0.9469\n",
      "Epoch 8/50\n",
      "32/32 [==============================] - 0s 5ms/step - loss: 1.8432e-04 - accuracy: 0.9440\n",
      "Epoch 9/50\n",
      "32/32 [==============================] - 0s 5ms/step - loss: 5.3549e-05 - accuracy: 0.9518\n",
      "Epoch 10/50\n",
      "32/32 [==============================] - 0s 6ms/step - loss: 3.5303e-05 - accuracy: 0.9508\n",
      "Epoch 11/50\n",
      "32/32 [==============================] - 0s 5ms/step - loss: 3.3283e-05 - accuracy: 0.9518\n",
      "Epoch 12/50\n",
      "32/32 [==============================] - 0s 5ms/step - loss: 3.1782e-05 - accuracy: 0.9538\n",
      "Epoch 13/50\n",
      "32/32 [==============================] - 0s 5ms/step - loss: 3.0785e-05 - accuracy: 0.9548\n",
      "Epoch 14/50\n",
      "32/32 [==============================] - 0s 5ms/step - loss: 2.9939e-05 - accuracy: 0.9548\n",
      "Epoch 15/50\n",
      "32/32 [==============================] - 0s 5ms/step - loss: 2.9197e-05 - accuracy: 0.9548\n",
      "Epoch 16/50\n",
      "32/32 [==============================] - 0s 5ms/step - loss: 2.8584e-05 - accuracy: 0.9548\n",
      "Epoch 17/50\n",
      "32/32 [==============================] - 0s 5ms/step - loss: 2.8005e-05 - accuracy: 0.9548\n",
      "Epoch 18/50\n",
      "32/32 [==============================] - 0s 6ms/step - loss: 2.7443e-05 - accuracy: 0.9558\n",
      "Epoch 19/50\n",
      "32/32 [==============================] - 0s 5ms/step - loss: 2.6946e-05 - accuracy: 0.9558\n",
      "Epoch 20/50\n",
      "32/32 [==============================] - 0s 6ms/step - loss: 2.6459e-05 - accuracy: 0.9558\n",
      "Epoch 21/50\n",
      "32/32 [==============================] - 0s 5ms/step - loss: 2.6046e-05 - accuracy: 0.9567\n",
      "Epoch 22/50\n",
      "32/32 [==============================] - 0s 5ms/step - loss: 2.5622e-05 - accuracy: 0.9567\n",
      "Epoch 23/50\n",
      "32/32 [==============================] - 0s 5ms/step - loss: 2.5225e-05 - accuracy: 0.9567\n",
      "Epoch 24/50\n",
      "32/32 [==============================] - 0s 5ms/step - loss: 2.4908e-05 - accuracy: 0.9567\n",
      "Epoch 25/50\n",
      "32/32 [==============================] - 0s 5ms/step - loss: 2.4500e-05 - accuracy: 0.9567\n",
      "Epoch 26/50\n",
      "32/32 [==============================] - 0s 5ms/step - loss: 2.4167e-05 - accuracy: 0.9567\n",
      "Epoch 27/50\n",
      "32/32 [==============================] - 0s 5ms/step - loss: 2.3832e-05 - accuracy: 0.9577\n",
      "Epoch 28/50\n",
      "32/32 [==============================] - 0s 5ms/step - loss: 2.3508e-05 - accuracy: 0.9577\n",
      "Epoch 29/50\n",
      "32/32 [==============================] - 0s 5ms/step - loss: 2.3214e-05 - accuracy: 0.9577\n",
      "Epoch 30/50\n",
      "32/32 [==============================] - 0s 5ms/step - loss: 2.2920e-05 - accuracy: 0.9577\n",
      "Epoch 31/50\n",
      "32/32 [==============================] - 0s 5ms/step - loss: 2.2640e-05 - accuracy: 0.9577\n",
      "Epoch 32/50\n",
      "32/32 [==============================] - 0s 5ms/step - loss: 2.2378e-05 - accuracy: 0.9577\n",
      "Epoch 33/50\n",
      "32/32 [==============================] - 0s 5ms/step - loss: 2.2116e-05 - accuracy: 0.9577\n",
      "Epoch 34/50\n",
      "32/32 [==============================] - 0s 6ms/step - loss: 2.1849e-05 - accuracy: 0.9577\n",
      "Epoch 35/50\n",
      "32/32 [==============================] - 0s 5ms/step - loss: 2.1584e-05 - accuracy: 0.9577\n",
      "Epoch 36/50\n",
      "32/32 [==============================] - 0s 5ms/step - loss: 2.1349e-05 - accuracy: 0.9577\n",
      "Epoch 37/50\n",
      "32/32 [==============================] - 0s 5ms/step - loss: 2.1125e-05 - accuracy: 0.9577\n",
      "Epoch 38/50\n",
      "32/32 [==============================] - 0s 5ms/step - loss: 2.0888e-05 - accuracy: 0.9577\n",
      "Epoch 39/50\n",
      "32/32 [==============================] - 0s 6ms/step - loss: 2.0669e-05 - accuracy: 0.9587\n",
      "Epoch 40/50\n",
      "32/32 [==============================] - 0s 5ms/step - loss: 2.0463e-05 - accuracy: 0.9587\n",
      "Epoch 41/50\n",
      "32/32 [==============================] - 0s 5ms/step - loss: 2.0227e-05 - accuracy: 0.9577\n",
      "Epoch 42/50\n",
      "32/32 [==============================] - 0s 6ms/step - loss: 2.0027e-05 - accuracy: 0.9587\n",
      "Epoch 43/50\n",
      "32/32 [==============================] - 0s 5ms/step - loss: 1.9825e-05 - accuracy: 0.9577\n",
      "Epoch 44/50\n",
      "32/32 [==============================] - 0s 5ms/step - loss: 1.9624e-05 - accuracy: 0.9577\n",
      "Epoch 45/50\n",
      "32/32 [==============================] - 0s 5ms/step - loss: 1.9419e-05 - accuracy: 0.9577\n",
      "Epoch 46/50\n",
      "32/32 [==============================] - 0s 5ms/step - loss: 1.9239e-05 - accuracy: 0.9597\n",
      "Epoch 47/50\n",
      "32/32 [==============================] - 0s 5ms/step - loss: 1.9043e-05 - accuracy: 0.9587\n",
      "Epoch 48/50\n",
      "32/32 [==============================] - 0s 5ms/step - loss: 1.8874e-05 - accuracy: 0.9607\n",
      "Epoch 49/50\n",
      "32/32 [==============================] - 0s 5ms/step - loss: 1.8674e-05 - accuracy: 0.9597\n",
      "Epoch 50/50\n",
      "32/32 [==============================] - 0s 5ms/step - loss: 1.8506e-05 - accuracy: 0.9607\n"
     ]
    },
    {
     "data": {
      "image/png": "[encoded data removed]",
      "text/plain": [
       "<Figure size 640x480 with 2 Axes>"
      ]
     },
     "metadata": {},
     "output_type": "display_data"
    }
   ],
   "source": [
    "# train the model\n",
    "model = load_model('model3.h5')\n",
    "# run model on cuda\n",
    "# with tf.device('/gpu:0'):\n",
    "# model = create_model(max_length, learning_rate=0.0005)\n",
    "    \n",
    "# model = create_model(max_length, learning_rate=0.001)\n",
    "history = model.fit(X_train, y_train, epochs=50)\n",
    "# # save the model to file\n",
    "model.save('model3.h5')\n",
    "\n",
    "# evaluate the model\n",
    "# loss, acc = model.evaluate(X_train, y_train)\n",
    "# print('Accuracy: %f' % (acc*100))\n",
    "\n",
    "#  plot loss and accuracy\n",
    "plt.subplot(211)\n",
    "plt.title('Loss')\n",
    "plt.plot(history.history['loss'], label='train')\n",
    "\n",
    "plt.subplot(212)\n",
    "plt.title('Accuracy')\n",
    "plt.plot(history.history['accuracy'], label='train')\n",
    "\n",
    "plt.legend()\n",
    "plt.show()"
   ]
  },
  {
   "attachments": {},
   "cell_type": "markdown",
   "metadata": {},
   "source": [
    "### Ładowanie modelu"
   ]
  },
  {
   "cell_type": "code",
   "execution_count": 5,
   "metadata": {},
   "outputs": [],
   "source": [
    "from keras.models import load_model\n",
    "model = load_model('model3.h5')"
   ]
  },
  {
   "attachments": {},
   "cell_type": "markdown",
   "metadata": {},
   "source": [
    "### Testy"
   ]
  },
  {
   "cell_type": "code",
   "execution_count": 6,
   "metadata": {},
   "outputs": [],
   "source": [
    "def test_model(model, input_wrod, max_len):\n",
    "    X_new = np.zeros((1, max_len, len(slownik)))\n",
    "    for j, char in enumerate(input_wrod):\n",
    "        if j == max_len:\n",
    "            break\n",
    "        X_new[0, j, char_to_int[char]] = 1\n",
    "    # adjust X_train to be 2D for simple dense\n",
    "    X_new = X_new.reshape((X_new.shape[0], X_new.shape[1]*X_new.shape[2]))\n",
    "    \n",
    "    y_pred = model.predict(X_new)[0]\n",
    "    # print(y_pred)\n",
    "    y_pred = [int(round(x)) for x in y_pred]\n",
    "    \n",
    "    output = []\n",
    "    for i in range(len(input_wrod)):\n",
    "        if y_pred[i] == 1:\n",
    "            output.append('-')\n",
    "        output.append(input_wrod[i])\n",
    "        # output.append('_')\n",
    "    return \"\".join(output)"
   ]
  },
  {
   "cell_type": "code",
   "execution_count": 7,
   "metadata": {},
   "outputs": [
    {
     "name": "stdout",
     "output_type": "stream",
     "text": [
      "1/1 [==============================] - 0s 81ms/step\n",
      "-me-cha-ni-ka\n",
      "1/1 [==============================] - 0s 23ms/step\n",
      "-kwan-ty\n",
      "1/1 [==============================] - 0s 19ms/step\n",
      "-re-su-scy-ta-cja\n",
      "1/1 [==============================] - 0s 17ms/step\n",
      "-kom-bajn\n",
      "1/1 [==============================] - 0s 18ms/step\n",
      "-re-ko-ne-san-s\n",
      "1/1 [==============================] - 0s 19ms/step\n",
      "-miria-dy\n",
      "1/1 [==============================] - 0s 17ms/step\n",
      "-e-nter\n"
     ]
    }
   ],
   "source": [
    "while True:\n",
    "    word = input(\"Podaj słowo: \")\n",
    "    if word == \"q\":\n",
    "        break\n",
    "    print(test_model(model, word, max_length))\n",
    "    # print(word)"
   ]
  },
  {
   "cell_type": "code",
   "execution_count": null,
   "metadata": {},
   "outputs": [],
   "source": [
    "# test model\n",
    "# f = open(\"slowa.txt\", \"r\", encoding=\"utf-8\")\n",
    "# words = f.read().split(\"\\n\")\n",
    "# words = [w for w in words if len(w) > 0]\n",
    "# N = 100\n",
    "# for i in range(N):\n",
    "#     word = words[random.randint(0, len(words)-1)]\n",
    "#     print(f'{i}.', word, test_model(model, word, max_length))"
   ]
  },
  {
   "cell_type": "code",
   "execution_count": null,
   "metadata": {},
   "outputs": [],
   "source": [
    "# rowerzystaoczarowaniepoduszkowiec"
   ]
  }
 ],
 "metadata": {
  "kernelspec": {
   "display_name": "Python 3",
   "language": "python",
   "name": "python3"
  },
  "language_info": {
   "codemirror_mode": {
    "name": "ipython",
    "version": 3
   },
   "file_extension": ".py",
   "mimetype": "text/x-python",
   "name": "python",
   "nbconvert_exporter": "python",
   "pygments_lexer": "ipython3",
   "version": "3.11.3"
  },
  "orig_nbformat": 4
 },
 "nbformat": 4,
 "nbformat_minor": 2
}
